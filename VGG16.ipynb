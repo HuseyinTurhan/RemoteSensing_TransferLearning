{
  "nbformat": 4,
  "nbformat_minor": 0,
  "metadata": {
    "colab": {
      "name": "Untitled1.ipynb",
      "provenance": []
    },
    "kernelspec": {
      "name": "python3",
      "display_name": "Python 3"
    },
    "accelerator": "GPU"
  },
  "cells": [
    {
      "cell_type": "code",
      "metadata": {
        "id": "P0N2cXWOnfLP",
        "colab_type": "code",
        "outputId": "c476d776-85ef-4de1-df18-61fe8f67ee46",
        "colab": {
          "base_uri": "https://localhost:8080/",
          "height": 122
        }
      },
      "source": [
        "!apt-get install -y -qq software-properties-common python-software-properties module-init-tools\n",
        "!add-apt-repository -y ppa:alessandro-strada/ppa 2>&1 > /dev/null\n",
        "!apt-get update -qq 2>&1 > /dev/null\n",
        "!apt-get -y install -qq google-drive-ocamlfuse fuse\n",
        "from google.colab import auth\n",
        "auth.authenticate_user()\n",
        "from oauth2client.client import GoogleCredentials\n",
        "creds = GoogleCredentials.get_application_default()\n",
        "import getpass\n",
        "!google-drive-ocamlfuse -headless -id={creds.client_id} -secret={creds.client_secret} < /dev/null 2>&1 | grep URL\n",
        "vcode = getpass.getpass()\n",
        "!echo {vcode} | google-drive-ocamlfuse -headless -id={creds.client_id} -secret={creds.client_secret}"
      ],
      "execution_count": 0,
      "outputs": [
        {
          "output_type": "stream",
          "text": [
            "E: Package 'python-software-properties' has no installation candidate\n",
            "Please, open the following URL in a web browser: https://accounts.google.com/o/oauth2/auth?client_id=32555940559.apps.googleusercontent.com&redirect_uri=urn%3Aietf%3Awg%3Aoauth%3A2.0%3Aoob&scope=https%3A%2F%2Fwww.googleapis.com%2Fauth%2Fdrive&response_type=code&access_type=offline&approval_prompt=force\n",
            "··········\n",
            "Please, open the following URL in a web browser: https://accounts.google.com/o/oauth2/auth?client_id=32555940559.apps.googleusercontent.com&redirect_uri=urn%3Aietf%3Awg%3Aoauth%3A2.0%3Aoob&scope=https%3A%2F%2Fwww.googleapis.com%2Fauth%2Fdrive&response_type=code&access_type=offline&approval_prompt=force\n",
            "Please enter the verification code: Access token retrieved correctly.\n"
          ],
          "name": "stdout"
        }
      ]
    },
    {
      "cell_type": "code",
      "metadata": {
        "id": "Mecmti1anoTH",
        "colab_type": "code",
        "outputId": "ceae10ff-09de-42f8-cd42-7c67d92d5010",
        "colab": {
          "base_uri": "https://localhost:8080/",
          "height": 51
        }
      },
      "source": [
        "import keras\n",
        "from keras.layers import Conv2D, Conv3D, Flatten, Dense, Reshape, BatchNormalization\n",
        "from keras.layers import Dropout, Input\n",
        "from keras.models import Model\n",
        "from keras.optimizers import Adam, SGD\n",
        "from keras.callbacks import ModelCheckpoint\n",
        "from keras.utils import np_utils\n",
        "from keras.applications.vgg16 import VGG16\n",
        "\n",
        "from sklearn.decomposition import PCA\n",
        "from sklearn.model_selection import train_test_split\n",
        "from sklearn.metrics import confusion_matrix, accuracy_score, classification_report, cohen_kappa_score\n",
        "\n",
        "from operator import truediv\n",
        "\n",
        "from plotly.offline import init_notebook_mode\n",
        "import torch\n",
        "import numpy as np\n",
        "import matplotlib.pyplot as plt\n",
        "import scipy.io as sio\n",
        "import os\n",
        "\n",
        "init_notebook_mode(connected=True)\n",
        "%matplotlib inline\n",
        "\n",
        "use_gpu = torch.cuda.is_available()\n",
        "if use_gpu:\n",
        "    print(\"Using CUDA\")\n",
        "\n",
        "## GLOBAL VARIABLES\n",
        "dataset = \"PU\"\n",
        "test_ratio = 0.2\n",
        "windowSize = 33\n",
        "\n",
        "def loadData(name):\n",
        "    data_path = os.path.join(os.getcwd(),'drive/My Drive/Colab Notebooks/')\n",
        "    if name == 'PU':\n",
        "        data = sio.loadmat(os.path.join(data_path, 'PaviaU.mat'))['paviaU']\n",
        "        labels = sio.loadmat(os.path.join(data_path, 'PaviaU_tr.mat'))['PaviaUni_train']\n",
        "        testlabels = sio.loadmat(os.path.join(data_path, 'PaviaU_gt.mat'))['paviaU_gt']\n",
        "    \n",
        "    return data, labels, testlabels\n",
        "\n",
        "def splitTrainTestSet(X, y, testRatio, randomState=345):\n",
        "    X_train, X_test, y_train, y_test = train_test_split(X, y, test_size=testRatio, random_state=randomState,\n",
        "                                                        stratify=y)\n",
        "    return X_train, X_test, y_train, y_test\n",
        "\n",
        "def applyPCA(X, numComponents=75):\n",
        "    newX = np.reshape(X, (-1, X.shape[2]))\n",
        "    pca = PCA(n_components=numComponents, whiten=True)\n",
        "    newX = pca.fit_transform(newX)\n",
        "    newX = np.reshape(newX, (X.shape[0],X.shape[1], numComponents))\n",
        "    return newX, pca\n",
        "\n",
        "\n",
        "def padWithZeros(X, margin=2):\n",
        "    newX = np.zeros((X.shape[0] + 2 * margin, X.shape[1] + 2* margin, X.shape[2]))\n",
        "    x_offset = margin\n",
        "    y_offset = margin\n",
        "    newX[x_offset:X.shape[0] + x_offset, y_offset:X.shape[1] + y_offset, :] = X\n",
        "    return newX\n",
        "\n",
        "def createImageCubes(X, y, windowSize=5, removeZeroLabels = True):\n",
        "    margin = int((windowSize - 1) / 2)\n",
        "    zeroPaddedX = padWithZeros(X, margin=margin)\n",
        "    # split patches\n",
        "    patchesData = np.zeros((X.shape[0] * X.shape[1], windowSize, windowSize, X.shape[2]))\n",
        "    patchesLabels = np.zeros((X.shape[0] * X.shape[1]))\n",
        "    patchIndex = 0\n",
        "    for r in range(margin, zeroPaddedX.shape[0] - margin):\n",
        "        for c in range(margin, zeroPaddedX.shape[1] - margin):\n",
        "            patch = zeroPaddedX[r - margin:r + margin + 1, c - margin:c + margin + 1]   \n",
        "            patchesData[patchIndex, :, :, :] = patch\n",
        "            patchesLabels[patchIndex] = y[r-margin, c-margin]\n",
        "            patchIndex = patchIndex + 1\n",
        "    if removeZeroLabels:\n",
        "        patchesData = patchesData[patchesLabels>0,:,:,:]\n",
        "        patchesLabels = patchesLabels[patchesLabels>0]\n",
        "        patchesLabels -= 1\n",
        "    return patchesData, patchesLabels"
      ],
      "execution_count": 1,
      "outputs": [
        {
          "output_type": "stream",
          "text": [
            "Using TensorFlow backend.\n"
          ],
          "name": "stderr"
        },
        {
          "output_type": "display_data",
          "data": {
            "text/html": [
              "        <script type=\"text/javascript\">\n",
              "        window.PlotlyConfig = {MathJaxConfig: 'local'};\n",
              "        if (window.MathJax) {MathJax.Hub.Config({SVG: {font: \"STIX-Web\"}});}\n",
              "        if (typeof require !== 'undefined') {\n",
              "        require.undef(\"plotly\");\n",
              "        requirejs.config({\n",
              "            paths: {\n",
              "                'plotly': ['https://cdn.plot.ly/plotly-latest.min']\n",
              "            }\n",
              "        });\n",
              "        require(['plotly'], function(Plotly) {\n",
              "            window._Plotly = Plotly;\n",
              "        });\n",
              "        }\n",
              "        </script>\n",
              "        "
            ]
          },
          "metadata": {
            "tags": []
          }
        },
        {
          "output_type": "stream",
          "text": [
            "Using CUDA\n"
          ],
          "name": "stdout"
        }
      ]
    },
    {
      "cell_type": "code",
      "metadata": {
        "id": "gHWdRlURoOS7",
        "colab_type": "code",
        "outputId": "fe4bbee6-5200-4988-95d0-96af360e70f3",
        "colab": {
          "base_uri": "https://localhost:8080/",
          "height": 34
        }
      },
      "source": [
        "X, y, ytest = loadData(dataset)\n",
        "X.shape, y.shape, ytest.shape"
      ],
      "execution_count": 2,
      "outputs": [
        {
          "output_type": "execute_result",
          "data": {
            "text/plain": [
              "((610, 340, 103), (610, 340), (610, 340))"
            ]
          },
          "metadata": {
            "tags": []
          },
          "execution_count": 2
        }
      ]
    },
    {
      "cell_type": "code",
      "metadata": {
        "id": "eSqt6vGRoQqT",
        "colab_type": "code",
        "outputId": "f18cf143-8252-487c-8f3d-f728e63d26ec",
        "colab": {
          "base_uri": "https://localhost:8080/",
          "height": 34
        }
      },
      "source": [
        "K = 3\n",
        "X,pca = applyPCA(X,numComponents=K)\n",
        "\n",
        "X.shape"
      ],
      "execution_count": 3,
      "outputs": [
        {
          "output_type": "execute_result",
          "data": {
            "text/plain": [
              "(610, 340, 3)"
            ]
          },
          "metadata": {
            "tags": []
          },
          "execution_count": 3
        }
      ]
    },
    {
      "cell_type": "code",
      "metadata": {
        "id": "SL44BsBPPPun",
        "colab_type": "code",
        "outputId": "1a0d00de-0824-464f-99a9-3acb19378d15",
        "colab": {
          "base_uri": "https://localhost:8080/",
          "height": 286
        }
      },
      "source": [
        "imgplot = plt.imshow(y)\n",
        "plt.colorbar()"
      ],
      "execution_count": 4,
      "outputs": [
        {
          "output_type": "execute_result",
          "data": {
            "text/plain": [
              "<matplotlib.colorbar.Colorbar at 0x7f6a805df978>"
            ]
          },
          "metadata": {
            "tags": []
          },
          "execution_count": 4
        },
        {
          "output_type": "display_data",
          "data": {
            "image/png": "[encoded data removed]",
            "text/plain": [
              "<Figure size 432x288 with 2 Axes>"
            ]
          },
          "metadata": {
            "tags": [],
            "needs_background": "light"
          }
        }
      ]
    },
    {
      "cell_type": "code",
      "metadata": {
        "colab_type": "code",
        "outputId": "749bb275-4b66-4ea3-adbf-84d8dc93a5dd",
        "id": "djjERy-nS9pD",
        "colab": {
          "base_uri": "https://localhost:8080/",
          "height": 286
        }
      },
      "source": [
        "imgplot = plt.imshow(ytest)\n",
        "plt.colorbar()"
      ],
      "execution_count": 7,
      "outputs": [
        {
          "output_type": "execute_result",
          "data": {
            "text/plain": [
              "<matplotlib.colorbar.Colorbar at 0x7fdee310e0f0>"
            ]
          },
          "metadata": {
            "tags": []
          },
          "execution_count": 7
        },
        {
          "output_type": "display_data",
          "data": {
            "image/png": "[encoded data removed]",
            "text/plain": [
              "<Figure size 432x288 with 2 Axes>"
            ]
          },
          "metadata": {
            "tags": [],
            "needs_background": "light"
          }
        }
      ]
    },
    {
      "cell_type": "code",
      "metadata": {
        "id": "neu-uqv5ocyz",
        "colab_type": "code",
        "outputId": "a2652f35-ffa7-48da-de63-1ef6bc86d413",
        "colab": {
          "base_uri": "https://localhost:8080/",
          "height": 34
        }
      },
      "source": [
        "Xtest = X\n",
        "X, y = createImageCubes(X, y, windowSize=windowSize)\n",
        "X.shape, y.shape"
      ],
      "execution_count": 5,
      "outputs": [
        {
          "output_type": "execute_result",
          "data": {
            "text/plain": [
              "((3921, 33, 33, 3), (3921,))"
            ]
          },
          "metadata": {
            "tags": []
          },
          "execution_count": 5
        }
      ]
    },
    {
      "cell_type": "code",
      "metadata": {
        "id": "_RZzh96CWc88",
        "colab_type": "code",
        "outputId": "55c3e87a-44c1-481a-8732-079329650b04",
        "colab": {
          "base_uri": "https://localhost:8080/",
          "height": 34
        }
      },
      "source": [
        "Xtest, ytest = createImageCubes(Xtest, ytest, windowSize=windowSize)\n",
        "Xtest.shape, ytest.shape"
      ],
      "execution_count": 6,
      "outputs": [
        {
          "output_type": "execute_result",
          "data": {
            "text/plain": [
              "((42776, 33, 33, 3), (42776,))"
            ]
          },
          "metadata": {
            "tags": []
          },
          "execution_count": 6
        }
      ]
    },
    {
      "cell_type": "code",
      "metadata": {
        "id": "NZZfd3h0jAoR",
        "colab_type": "code",
        "colab": {}
      },
      "source": [
        "def resizeX(X):\n",
        "    new = []\n",
        "    for sample in range (X.shape[0]):\n",
        "        temp = np.zeros((1, 224, 224, X.shape[3]))\n",
        "        for layer in range (X.shape[3]):\n",
        "            temp[0,:,:,layer] = np.resize(X[sample,:,:,layer], (224,224))\n",
        "        new.append(temp)\n",
        "    new = np.array(new)\n",
        "    return new"
      ],
      "execution_count": 0,
      "outputs": []
    },
    {
      "cell_type": "code",
      "metadata": {
        "id": "ZYheMY218lAV",
        "colab_type": "code",
        "colab": {}
      },
      "source": [
        "resizedX = resizeX(X)\n",
        "resizedX.shape"
      ],
      "execution_count": 0,
      "outputs": []
    },
    {
      "cell_type": "code",
      "metadata": {
        "id": "iXf9CCiGoh-r",
        "colab_type": "code",
        "outputId": "b06d3d3b-686d-4036-92a5-42e81258b5dd",
        "colab": {
          "base_uri": "https://localhost:8080/",
          "height": 34
        }
      },
      "source": [
        "#Xtrain, Xtest, ytrain, ytest = splitTrainTestSet(X, y, test_ratio)\n",
        "Xtrain = X\n",
        "ytrain = y\n",
        "Xtrain.shape, Xtest.shape, ytrain.shape, ytest.shape"
      ],
      "execution_count": 0,
      "outputs": [
        {
          "output_type": "execute_result",
          "data": {
            "text/plain": [
              "((3921, 33, 33, 3), (42776, 33, 33, 3), (3921,), (42776,))"
            ]
          },
          "metadata": {
            "tags": []
          },
          "execution_count": 11
        }
      ]
    },
    {
      "cell_type": "code",
      "metadata": {
        "id": "bxBOAQjUo1sR",
        "colab_type": "code",
        "outputId": "b3763706-1a12-4d10-b489-fc240c28fed1",
        "colab": {
          "base_uri": "https://localhost:8080/",
          "height": 34
        }
      },
      "source": [
        "ytrain = np_utils.to_categorical(ytrain)\n",
        "ytest = np_utils.to_categorical(ytest)\n",
        "ytrain.shape, ytest.shape"
      ],
      "execution_count": 0,
      "outputs": [
        {
          "output_type": "execute_result",
          "data": {
            "text/plain": [
              "((3921, 9), (42776, 9))"
            ]
          },
          "metadata": {
            "tags": []
          },
          "execution_count": 12
        }
      ]
    },
    {
      "cell_type": "code",
      "metadata": {
        "id": "ByfAh8LDwhKD",
        "colab_type": "code",
        "outputId": "07375387-d7b2-483b-dc9f-15cde381e899",
        "colab": {
          "base_uri": "https://localhost:8080/",
          "height": 680
        }
      },
      "source": [
        "model = keras.models.Sequential()\n",
        "model_x = VGG16(include_top=False, weights='imagenet', input_shape=(33,33,3))\n",
        "model.add(model_x)\n",
        "model.add(Flatten())\n",
        "model.add(Dense(512, activation='relu'))\n",
        "model.add(Dense(512, activation='relu'))\n",
        "model.add(Dense(9, activation='softmax'))\n",
        "for layer in model_x.layers[:]:\n",
        "  layer.trainable = False\n",
        "for layer in model_x.layers:\n",
        "  sp = '         '[len(layer.name)-3:]\n",
        "  print(layer.name,sp,layer.trainable)\n",
        "\n",
        "model.summary()"
      ],
      "execution_count": 0,
      "outputs": [
        {
          "output_type": "stream",
          "text": [
            "Downloading data from https://github.com/fchollet/deep-learning-models/releases/download/v0.1/vgg16_weights_tf_dim_ordering_tf_kernels_notop.h5\n",
            "58892288/58889256 [==============================] - 5s 0us/step\n",
            "input_1       False\n",
            "block1_conv1  False\n",
            "block1_conv2  False\n",
            "block1_pool   False\n",
            "block2_conv1  False\n",
            "block2_conv2  False\n",
            "block2_pool   False\n",
            "block3_conv1  False\n",
            "block3_conv2  False\n",
            "block3_conv3  False\n",
            "block3_pool   False\n",
            "block4_conv1  False\n",
            "block4_conv2  False\n",
            "block4_conv3  False\n",
            "block4_pool   False\n",
            "block5_conv1  False\n",
            "block5_conv2  False\n",
            "block5_conv3  False\n",
            "block5_pool   False\n",
            "Model: \"sequential_1\"\n",
            "_________________________________________________________________\n",
            "Layer (type)                 Output Shape              Param #   \n",
            "=================================================================\n",
            "vgg16 (Model)                (None, 1, 1, 512)         14714688  \n",
            "_________________________________________________________________\n",
            "flatten_1 (Flatten)          (None, 512)               0         \n",
            "_________________________________________________________________\n",
            "dense_1 (Dense)              (None, 512)               262656    \n",
            "_________________________________________________________________\n",
            "dense_2 (Dense)              (None, 512)               262656    \n",
            "_________________________________________________________________\n",
            "dense_3 (Dense)              (None, 9)                 4617      \n",
            "=================================================================\n",
            "Total params: 15,244,617\n",
            "Trainable params: 529,929\n",
            "Non-trainable params: 14,714,688\n",
            "_________________________________________________________________\n"
          ],
          "name": "stdout"
        }
      ]
    },
    {
      "cell_type": "code",
      "metadata": {
        "id": "hsoczWX62S01",
        "colab_type": "code",
        "colab": {}
      },
      "source": [
        "adam = Adam(lr=0.00001, decay=1e-06)\n",
        "model.compile(loss='categorical_crossentropy', optimizer=adam, metrics=['accuracy'])"
      ],
      "execution_count": 0,
      "outputs": []
    },
    {
      "cell_type": "code",
      "metadata": {
        "id": "ZZyPmtn125d0",
        "colab_type": "code",
        "colab": {}
      },
      "source": [
        "filepath = \"best-model.hdf5\"\n",
        "checkpoint = ModelCheckpoint(filepath, monitor='accuracy', verbose=1, save_best_only=True, mode='max')\n",
        "callbacks_list = [checkpoint]"
      ],
      "execution_count": 0,
      "outputs": []
    },
    {
      "cell_type": "code",
      "metadata": {
        "id": "xdr0nNCc29po",
        "colab_type": "code",
        "outputId": "dbd6ad84-7f13-46cf-b9a6-06492ac81868",
        "colab": {
          "base_uri": "https://localhost:8080/",
          "height": 1000
        }
      },
      "source": [
        "history = model.fit(x=Xtrain, y=ytrain, batch_size=128, epochs=65, callbacks=callbacks_list)"
      ],
      "execution_count": 0,
      "outputs": [
        {
          "output_type": "stream",
          "text": [
            "Epoch 1/65\n",
            "3921/3921 [==============================] - 9s 2ms/step - loss: 2.1606 - accuracy: 0.2471\n",
            "\n",
            "Epoch 00001: accuracy improved from -inf to 0.24713, saving model to best-model.hdf5\n",
            "Epoch 2/65\n",
            "3921/3921 [==============================] - 2s 411us/step - loss: 1.9962 - accuracy: 0.3448\n",
            "\n",
            "Epoch 00002: accuracy improved from 0.24713 to 0.34481, saving model to best-model.hdf5\n",
            "Epoch 3/65\n",
            "3921/3921 [==============================] - 2s 402us/step - loss: 1.8535 - accuracy: 0.4851\n",
            "\n",
            "Epoch 00003: accuracy improved from 0.34481 to 0.48508, saving model to best-model.hdf5\n",
            "Epoch 4/65\n",
            "3921/3921 [==============================] - 2s 399us/step - loss: 1.7233 - accuracy: 0.5973\n",
            "\n",
            "Epoch 00004: accuracy improved from 0.48508 to 0.59730, saving model to best-model.hdf5\n",
            "Epoch 5/65\n",
            "3921/3921 [==============================] - 2s 405us/step - loss: 1.6018 - accuracy: 0.6827\n",
            "\n",
            "Epoch 00005: accuracy improved from 0.59730 to 0.68273, saving model to best-model.hdf5\n",
            "Epoch 6/65\n",
            "3921/3921 [==============================] - 2s 405us/step - loss: 1.4879 - accuracy: 0.7228\n",
            "\n",
            "Epoch 00006: accuracy improved from 0.68273 to 0.72277, saving model to best-model.hdf5\n",
            "Epoch 7/65\n",
            "3921/3921 [==============================] - 2s 404us/step - loss: 1.3807 - accuracy: 0.7490\n",
            "\n",
            "Epoch 00007: accuracy improved from 0.72277 to 0.74904, saving model to best-model.hdf5\n",
            "Epoch 8/65\n",
            "3921/3921 [==============================] - 2s 399us/step - loss: 1.2801 - accuracy: 0.7689\n",
            "\n",
            "Epoch 00008: accuracy improved from 0.74904 to 0.76894, saving model to best-model.hdf5\n",
            "Epoch 9/65\n",
            "3921/3921 [==============================] - 2s 403us/step - loss: 1.1860 - accuracy: 0.7858\n",
            "\n",
            "Epoch 00009: accuracy improved from 0.76894 to 0.78577, saving model to best-model.hdf5\n",
            "Epoch 10/65\n",
            "3921/3921 [==============================] - 2s 401us/step - loss: 1.0989 - accuracy: 0.8008\n",
            "\n",
            "Epoch 00010: accuracy improved from 0.78577 to 0.80082, saving model to best-model.hdf5\n",
            "Epoch 11/65\n",
            "3921/3921 [==============================] - 2s 403us/step - loss: 1.0180 - accuracy: 0.8189\n",
            "\n",
            "Epoch 00011: accuracy improved from 0.80082 to 0.81892, saving model to best-model.hdf5\n",
            "Epoch 12/65\n",
            "3921/3921 [==============================] - 2s 407us/step - loss: 0.9434 - accuracy: 0.8294\n",
            "\n",
            "Epoch 00012: accuracy improved from 0.81892 to 0.82938, saving model to best-model.hdf5\n",
            "Epoch 13/65\n",
            "3921/3921 [==============================] - 2s 398us/step - loss: 0.8738 - accuracy: 0.8452\n",
            "\n",
            "Epoch 00013: accuracy improved from 0.82938 to 0.84519, saving model to best-model.hdf5\n",
            "Epoch 14/65\n",
            "3921/3921 [==============================] - 2s 404us/step - loss: 0.8099 - accuracy: 0.8595\n",
            "\n",
            "Epoch 00014: accuracy improved from 0.84519 to 0.85947, saving model to best-model.hdf5\n",
            "Epoch 15/65\n",
            "3921/3921 [==============================] - 2s 403us/step - loss: 0.7512 - accuracy: 0.8786\n",
            "\n",
            "Epoch 00015: accuracy improved from 0.85947 to 0.87860, saving model to best-model.hdf5\n",
            "Epoch 16/65\n",
            "3921/3921 [==============================] - 2s 401us/step - loss: 0.6974 - accuracy: 0.8916\n",
            "\n",
            "Epoch 00016: accuracy improved from 0.87860 to 0.89161, saving model to best-model.hdf5\n",
            "Epoch 17/65\n",
            "3921/3921 [==============================] - 2s 400us/step - loss: 0.6479 - accuracy: 0.9000\n",
            "\n",
            "Epoch 00017: accuracy improved from 0.89161 to 0.90003, saving model to best-model.hdf5\n",
            "Epoch 18/65\n",
            "3921/3921 [==============================] - 2s 398us/step - loss: 0.6026 - accuracy: 0.9102\n",
            "\n",
            "Epoch 00018: accuracy improved from 0.90003 to 0.91023, saving model to best-model.hdf5\n",
            "Epoch 19/65\n",
            "3921/3921 [==============================] - 2s 399us/step - loss: 0.5610 - accuracy: 0.9158\n",
            "\n",
            "Epoch 00019: accuracy improved from 0.91023 to 0.91584, saving model to best-model.hdf5\n",
            "Epoch 20/65\n",
            "3921/3921 [==============================] - 2s 402us/step - loss: 0.5226 - accuracy: 0.9232\n",
            "\n",
            "Epoch 00020: accuracy improved from 0.91584 to 0.92323, saving model to best-model.hdf5\n",
            "Epoch 21/65\n",
            "3921/3921 [==============================] - 2s 405us/step - loss: 0.4875 - accuracy: 0.9319\n",
            "\n",
            "Epoch 00021: accuracy improved from 0.92323 to 0.93191, saving model to best-model.hdf5\n",
            "Epoch 22/65\n",
            "3921/3921 [==============================] - 2s 403us/step - loss: 0.4553 - accuracy: 0.9385\n",
            "\n",
            "Epoch 00022: accuracy improved from 0.93191 to 0.93854, saving model to best-model.hdf5\n",
            "Epoch 23/65\n",
            "3921/3921 [==============================] - 2s 401us/step - loss: 0.4254 - accuracy: 0.9467\n",
            "\n",
            "Epoch 00023: accuracy improved from 0.93854 to 0.94670, saving model to best-model.hdf5\n",
            "Epoch 24/65\n",
            "3921/3921 [==============================] - 2s 403us/step - loss: 0.3978 - accuracy: 0.9518\n",
            "\n",
            "Epoch 00024: accuracy improved from 0.94670 to 0.95180, saving model to best-model.hdf5\n",
            "Epoch 25/65\n",
            "3921/3921 [==============================] - 2s 398us/step - loss: 0.3724 - accuracy: 0.9564\n",
            "\n",
            "Epoch 00025: accuracy improved from 0.95180 to 0.95639, saving model to best-model.hdf5\n",
            "Epoch 26/65\n",
            "3921/3921 [==============================] - 2s 394us/step - loss: 0.3487 - accuracy: 0.9610\n",
            "\n",
            "Epoch 00026: accuracy improved from 0.95639 to 0.96098, saving model to best-model.hdf5\n",
            "Epoch 27/65\n",
            "3921/3921 [==============================] - 2s 405us/step - loss: 0.3270 - accuracy: 0.9653\n",
            "\n",
            "Epoch 00027: accuracy improved from 0.96098 to 0.96531, saving model to best-model.hdf5\n",
            "Epoch 28/65\n",
            "3921/3921 [==============================] - 2s 395us/step - loss: 0.3069 - accuracy: 0.9686\n",
            "\n",
            "Epoch 00028: accuracy improved from 0.96531 to 0.96863, saving model to best-model.hdf5\n",
            "Epoch 29/65\n",
            "3921/3921 [==============================] - 2s 396us/step - loss: 0.2882 - accuracy: 0.9722\n",
            "\n",
            "Epoch 00029: accuracy improved from 0.96863 to 0.97220, saving model to best-model.hdf5\n",
            "Epoch 30/65\n",
            "3921/3921 [==============================] - 2s 400us/step - loss: 0.2706 - accuracy: 0.9755\n",
            "\n",
            "Epoch 00030: accuracy improved from 0.97220 to 0.97552, saving model to best-model.hdf5\n",
            "Epoch 31/65\n",
            "3921/3921 [==============================] - 2s 401us/step - loss: 0.2544 - accuracy: 0.9760\n",
            "\n",
            "Epoch 00031: accuracy improved from 0.97552 to 0.97603, saving model to best-model.hdf5\n",
            "Epoch 32/65\n",
            "3921/3921 [==============================] - 2s 399us/step - loss: 0.2394 - accuracy: 0.9778\n",
            "\n",
            "Epoch 00032: accuracy improved from 0.97603 to 0.97781, saving model to best-model.hdf5\n",
            "Epoch 33/65\n",
            "3921/3921 [==============================] - 2s 399us/step - loss: 0.2254 - accuracy: 0.9806\n",
            "\n",
            "Epoch 00033: accuracy improved from 0.97781 to 0.98062, saving model to best-model.hdf5\n",
            "Epoch 34/65\n",
            "3921/3921 [==============================] - 2s 401us/step - loss: 0.2124 - accuracy: 0.9824\n",
            "\n",
            "Epoch 00034: accuracy improved from 0.98062 to 0.98240, saving model to best-model.hdf5\n",
            "Epoch 35/65\n",
            "3921/3921 [==============================] - 2s 409us/step - loss: 0.2001 - accuracy: 0.9850\n",
            "\n",
            "Epoch 00035: accuracy improved from 0.98240 to 0.98495, saving model to best-model.hdf5\n",
            "Epoch 36/65\n",
            "3921/3921 [==============================] - 2s 397us/step - loss: 0.1889 - accuracy: 0.9855\n",
            "\n",
            "Epoch 00036: accuracy improved from 0.98495 to 0.98546, saving model to best-model.hdf5\n",
            "Epoch 37/65\n",
            "3921/3921 [==============================] - 2s 400us/step - loss: 0.1782 - accuracy: 0.9865\n",
            "\n",
            "Epoch 00037: accuracy improved from 0.98546 to 0.98648, saving model to best-model.hdf5\n",
            "Epoch 38/65\n",
            "3921/3921 [==============================] - 2s 401us/step - loss: 0.1685 - accuracy: 0.9872\n",
            "\n",
            "Epoch 00038: accuracy improved from 0.98648 to 0.98725, saving model to best-model.hdf5\n",
            "Epoch 39/65\n",
            "3921/3921 [==============================] - 2s 394us/step - loss: 0.1594 - accuracy: 0.9880\n",
            "\n",
            "Epoch 00039: accuracy improved from 0.98725 to 0.98801, saving model to best-model.hdf5\n",
            "Epoch 40/65\n",
            "3921/3921 [==============================] - 2s 403us/step - loss: 0.1509 - accuracy: 0.9893\n",
            "\n",
            "Epoch 00040: accuracy improved from 0.98801 to 0.98929, saving model to best-model.hdf5\n",
            "Epoch 41/65\n",
            "3921/3921 [==============================] - 2s 402us/step - loss: 0.1429 - accuracy: 0.9906\n",
            "\n",
            "Epoch 00041: accuracy improved from 0.98929 to 0.99056, saving model to best-model.hdf5\n",
            "Epoch 42/65\n",
            "3921/3921 [==============================] - 2s 397us/step - loss: 0.1356 - accuracy: 0.9913\n",
            "\n",
            "Epoch 00042: accuracy improved from 0.99056 to 0.99133, saving model to best-model.hdf5\n",
            "Epoch 43/65\n",
            "3921/3921 [==============================] - 2s 395us/step - loss: 0.1287 - accuracy: 0.9916\n",
            "\n",
            "Epoch 00043: accuracy improved from 0.99133 to 0.99158, saving model to best-model.hdf5\n",
            "Epoch 44/65\n",
            "3921/3921 [==============================] - 2s 395us/step - loss: 0.1223 - accuracy: 0.9929\n",
            "\n",
            "Epoch 00044: accuracy improved from 0.99158 to 0.99286, saving model to best-model.hdf5\n",
            "Epoch 45/65\n",
            "3921/3921 [==============================] - 2s 391us/step - loss: 0.1163 - accuracy: 0.9941\n",
            "\n",
            "Epoch 00045: accuracy improved from 0.99286 to 0.99413, saving model to best-model.hdf5\n",
            "Epoch 46/65\n",
            "3921/3921 [==============================] - 2s 398us/step - loss: 0.1107 - accuracy: 0.9944\n",
            "\n",
            "Epoch 00046: accuracy improved from 0.99413 to 0.99439, saving model to best-model.hdf5\n",
            "Epoch 47/65\n",
            "3921/3921 [==============================] - 2s 392us/step - loss: 0.1053 - accuracy: 0.9952\n",
            "\n",
            "Epoch 00047: accuracy improved from 0.99439 to 0.99515, saving model to best-model.hdf5\n",
            "Epoch 48/65\n",
            "3921/3921 [==============================] - 2s 400us/step - loss: 0.1003 - accuracy: 0.9949\n",
            "\n",
            "Epoch 00048: accuracy did not improve from 0.99515\n",
            "Epoch 49/65\n",
            "3921/3921 [==============================] - 2s 392us/step - loss: 0.0956 - accuracy: 0.9967\n",
            "\n",
            "Epoch 00049: accuracy improved from 0.99515 to 0.99668, saving model to best-model.hdf5\n",
            "Epoch 50/65\n",
            "3921/3921 [==============================] - 2s 391us/step - loss: 0.0911 - accuracy: 0.9964\n",
            "\n",
            "Epoch 00050: accuracy did not improve from 0.99668\n",
            "Epoch 51/65\n",
            "3921/3921 [==============================] - 2s 399us/step - loss: 0.0869 - accuracy: 0.9972\n",
            "\n",
            "Epoch 00051: accuracy improved from 0.99668 to 0.99719, saving model to best-model.hdf5\n",
            "Epoch 52/65\n",
            "3921/3921 [==============================] - 2s 396us/step - loss: 0.0831 - accuracy: 0.9974\n",
            "\n",
            "Epoch 00052: accuracy improved from 0.99719 to 0.99745, saving model to best-model.hdf5\n",
            "Epoch 53/65\n",
            "3921/3921 [==============================] - 2s 395us/step - loss: 0.0793 - accuracy: 0.9977\n",
            "\n",
            "Epoch 00053: accuracy improved from 0.99745 to 0.99770, saving model to best-model.hdf5\n",
            "Epoch 54/65\n",
            "3921/3921 [==============================] - 2s 390us/step - loss: 0.0759 - accuracy: 0.9982\n",
            "\n",
            "Epoch 00054: accuracy improved from 0.99770 to 0.99821, saving model to best-model.hdf5\n",
            "Epoch 55/65\n",
            "3921/3921 [==============================] - 2s 402us/step - loss: 0.0725 - accuracy: 0.9985\n",
            "\n",
            "Epoch 00055: accuracy improved from 0.99821 to 0.99847, saving model to best-model.hdf5\n",
            "Epoch 56/65\n",
            "3921/3921 [==============================] - 2s 396us/step - loss: 0.0694 - accuracy: 0.9985\n",
            "\n",
            "Epoch 00056: accuracy did not improve from 0.99847\n",
            "Epoch 57/65\n",
            "3921/3921 [==============================] - 2s 419us/step - loss: 0.0665 - accuracy: 0.9990\n",
            "\n",
            "Epoch 00057: accuracy improved from 0.99847 to 0.99898, saving model to best-model.hdf5\n",
            "Epoch 58/65\n",
            "3921/3921 [==============================] - 2s 439us/step - loss: 0.0637 - accuracy: 0.9990\n",
            "\n",
            "Epoch 00058: accuracy did not improve from 0.99898\n",
            "Epoch 59/65\n",
            "3921/3921 [==============================] - 2s 435us/step - loss: 0.0611 - accuracy: 0.9990\n",
            "\n",
            "Epoch 00059: accuracy did not improve from 0.99898\n",
            "Epoch 60/65\n",
            "3921/3921 [==============================] - 2s 431us/step - loss: 0.0586 - accuracy: 0.9990\n",
            "\n",
            "Epoch 00060: accuracy did not improve from 0.99898\n",
            "Epoch 61/65\n",
            "3921/3921 [==============================] - 2s 438us/step - loss: 0.0562 - accuracy: 0.9992\n",
            "\n",
            "Epoch 00061: accuracy improved from 0.99898 to 0.99923, saving model to best-model.hdf5\n",
            "Epoch 62/65\n",
            "3921/3921 [==============================] - 2s 441us/step - loss: 0.0539 - accuracy: 0.9992\n",
            "\n",
            "Epoch 00062: accuracy did not improve from 0.99923\n",
            "Epoch 63/65\n",
            "3921/3921 [==============================] - 2s 436us/step - loss: 0.0517 - accuracy: 0.9992\n",
            "\n",
            "Epoch 00063: accuracy did not improve from 0.99923\n",
            "Epoch 64/65\n",
            "3921/3921 [==============================] - 2s 438us/step - loss: 0.0498 - accuracy: 0.9992\n",
            "\n",
            "Epoch 00064: accuracy did not improve from 0.99923\n",
            "Epoch 65/65\n",
            "3921/3921 [==============================] - 2s 435us/step - loss: 0.0479 - accuracy: 0.9995\n",
            "\n",
            "Epoch 00065: accuracy improved from 0.99923 to 0.99949, saving model to best-model.hdf5\n"
          ],
          "name": "stdout"
        }
      ]
    },
    {
      "cell_type": "code",
      "metadata": {
        "id": "n5DeYWwfSbhj",
        "colab_type": "code",
        "outputId": "a738361e-5c31-4649-e468-6d60fe5c2107",
        "colab": {
          "base_uri": "https://localhost:8080/",
          "height": 442
        }
      },
      "source": [
        "plt.figure(figsize=(7,7)) \n",
        "plt.grid() \n",
        "plt.plot(history.history['loss'])\n",
        "plt.ylabel('Loss') \n",
        "plt.xlabel('Epochs') \n",
        "plt.legend(['Training','Validation'], loc='upper right') \n",
        "plt.savefig(\"loss_curve.pdf\") \n",
        "plt.show()"
      ],
      "execution_count": 0,
      "outputs": [
        {
          "output_type": "display_data",
          "data": {
            "image/png": "[encoded data removed]",
            "text/plain": [
              "<Figure size 504x504 with 1 Axes>"
            ]
          },
          "metadata": {
            "tags": [],
            "needs_background": "light"
          }
        }
      ]
    },
    {
      "cell_type": "code",
      "metadata": {
        "id": "TSii2KyXSeMY",
        "colab_type": "code",
        "outputId": "fd9c24dd-fef1-4945-c060-f4c4d89f5c79",
        "colab": {
          "base_uri": "https://localhost:8080/",
          "height": 334
        }
      },
      "source": [
        "plt.figure(figsize=(5,5)) \n",
        "plt.ylim(0,1.1) \n",
        "plt.grid() \n",
        "plt.plot(history.history['accuracy'])\n",
        "plt.ylabel('Accuracy')\n",
        "plt.xlabel('Epochs') \n",
        "plt.legend(['Training','Validation']) \n",
        "plt.savefig(\"acc_curve.pdf\") \n",
        "plt.show()"
      ],
      "execution_count": 0,
      "outputs": [
        {
          "output_type": "display_data",
          "data": {
            "image/png": "[encoded data removed]",
            "text/plain": [
              "<Figure size 360x360 with 1 Axes>"
            ]
          },
          "metadata": {
            "tags": [],
            "needs_background": "light"
          }
        }
      ]
    },
    {
      "cell_type": "code",
      "metadata": {
        "id": "KIRB4mp2SjqZ",
        "colab_type": "code",
        "colab": {}
      },
      "source": [
        "# load best weights\n",
        "model.load_weights(\"best-model.hdf5\")\n",
        "model.compile(loss='categorical_crossentropy', optimizer=adam, metrics=['accuracy'])"
      ],
      "execution_count": 0,
      "outputs": []
    },
    {
      "cell_type": "code",
      "metadata": {
        "id": "WfTNPu1qocr4",
        "colab_type": "code",
        "outputId": "aefc7fae-662a-4064-8851-bf9d98d7e607",
        "colab": {
          "base_uri": "https://localhost:8080/",
          "height": 289
        }
      },
      "source": [
        "Y_pred_test = model.predict(Xtest)\n",
        "y_pred_test = np.argmax(Y_pred_test, axis=1)\n",
        "\n",
        "classification = classification_report(np.argmax(ytest, axis=1), y_pred_test)\n",
        "print(classification)"
      ],
      "execution_count": 0,
      "outputs": [
        {
          "output_type": "stream",
          "text": [
            "              precision    recall  f1-score   support\n",
            "\n",
            "           0       0.82      0.55      0.66      6631\n",
            "           1       0.89      0.93      0.91     18649\n",
            "           2       0.77      0.75      0.76      2099\n",
            "           3       0.40      0.62      0.49      3064\n",
            "           4       0.90      0.95      0.92      1345\n",
            "           5       0.83      0.63      0.72      5029\n",
            "           6       0.81      0.89      0.84      1330\n",
            "           7       0.81      0.86      0.84      3682\n",
            "           8       0.46      0.70      0.56       947\n",
            "\n",
            "    accuracy                           0.79     42776\n",
            "   macro avg       0.74      0.76      0.74     42776\n",
            "weighted avg       0.81      0.79      0.80     42776\n",
            "\n"
          ],
          "name": "stdout"
        }
      ]
    },
    {
      "cell_type": "code",
      "metadata": {
        "id": "w7m3VRbhwfyx",
        "colab_type": "code",
        "colab": {}
      },
      "source": [
        "def AA_andEachClassAccuracy(confusion_matrix):\n",
        "    counter = confusion_matrix.shape[0]\n",
        "    list_diag = np.diag(confusion_matrix)\n",
        "    list_raw_sum = np.sum(confusion_matrix, axis=1)\n",
        "    each_acc = np.nan_to_num(truediv(list_diag, list_raw_sum))\n",
        "    average_acc = np.mean(each_acc)\n",
        "    return each_acc, average_acc"
      ],
      "execution_count": 0,
      "outputs": []
    },
    {
      "cell_type": "code",
      "metadata": {
        "id": "HXSAn8B6wiwc",
        "colab_type": "code",
        "colab": {}
      },
      "source": [
        "def reports (X_test,y_test,name):\n",
        "    #start = time.time()\n",
        "    Y_pred = model.predict(X_test)\n",
        "    y_pred = np.argmax(Y_pred, axis=1)\n",
        "    #end = time.time()\n",
        "    #print(end - start)\n",
        "    if name == 'PU':\n",
        "        target_names = ['Asphalt','Meadows','Gravel','Trees', 'Painted metal sheets','Bare Soil','Bitumen',\n",
        "                        'Self-Blocking Bricks','Shadows']\n",
        "    \n",
        "    classification = classification_report(np.argmax(y_test, axis=1), y_pred, target_names=target_names)\n",
        "    oa = accuracy_score(np.argmax(y_test, axis=1), y_pred)\n",
        "    confusion = confusion_matrix(np.argmax(y_test, axis=1), y_pred)\n",
        "    each_acc, aa = AA_andEachClassAccuracy(confusion)\n",
        "    kappa = cohen_kappa_score(np.argmax(y_test, axis=1), y_pred)\n",
        "    score = model.evaluate(X_test, y_test, batch_size=32)\n",
        "    Test_Loss =  score[0]*100\n",
        "    Test_accuracy = score[1]*100\n",
        "    \n",
        "    return classification, confusion, Test_Loss, Test_accuracy, oa*100, each_acc*100, aa*100, kappa*100"
      ],
      "execution_count": 0,
      "outputs": []
    },
    {
      "cell_type": "code",
      "metadata": {
        "id": "aVQOf77xwlce",
        "colab_type": "code",
        "outputId": "e63ff310-3e13-4687-e90b-37847aa91799",
        "colab": {
          "base_uri": "https://localhost:8080/",
          "height": 34
        }
      },
      "source": [
        "classification, confusion, Test_loss, Test_accuracy, oa, each_acc, aa, kappa = reports(Xtest,ytest,dataset)\n",
        "classification = str(classification)\n",
        "confusion = str(confusion)\n",
        "file_name = \"classification_report.txt\"\n",
        "\n",
        "with open(file_name, 'w') as x_file:\n",
        "    x_file.write('{} Test loss (%)'.format(Test_loss))\n",
        "    x_file.write('\\n')\n",
        "    x_file.write('{} Test accuracy (%)'.format(Test_accuracy))\n",
        "    x_file.write('\\n')\n",
        "    x_file.write('\\n')\n",
        "    x_file.write('{} Kappa accuracy (%)'.format(kappa))\n",
        "    x_file.write('\\n')\n",
        "    x_file.write('{} Overall accuracy (%)'.format(oa))\n",
        "    x_file.write('\\n')\n",
        "    x_file.write('{} Average accuracy (%)'.format(aa))\n",
        "    x_file.write('\\n')\n",
        "    x_file.write('\\n')\n",
        "    x_file.write('{}'.format(classification))\n",
        "    x_file.write('\\n')\n",
        "    x_file.write('{}'.format(confusion))"
      ],
      "execution_count": 0,
      "outputs": [
        {
          "output_type": "stream",
          "text": [
            "42776/42776 [==============================] - 36s 836us/step\n"
          ],
          "name": "stdout"
        }
      ]
    }
  ]
}